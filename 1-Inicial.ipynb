{
 "cells": [
  {
   "cell_type": "markdown",
   "metadata": {},
   "source": [
    "# Churrarin Nicolas\n",
    "Materia Laboratorio de Implementacion 2\n",
    "\n",
    "Profesores\n",
    "1. Andres Araneo\n",
    "2. Tomas Lanza"
   ]
  },
  {
   "cell_type": "markdown",
   "metadata": {},
   "source": [
    "Repositorio\n",
    "\n",
    "https://github.com/Nicoch6/Labo2_2024"
   ]
  },
  {
   "cell_type": "markdown",
   "metadata": {},
   "source": [
    "# Objetivos\n",
    "\n",
    "\n",
    "El modelo debe estimar la edad del animal dentro de las siguientes categorías en base a las fotografías:\n",
    "\n",
    "1. 0 a 3 neses\n",
    "2. 4 a 6 meses\n",
    "3. a 12 meses\n",
    "4. 13 a 24 meses\n",
    "5. 25 a 36 meses\n",
    "6. 37 a 72 meses\n",
    "7. 73 a 144 meses\n",
    "8. 145 meses o mas\n",
    "\n",
    "Se deben utilizar solamente las imágenes y clase objetivo (derivar del campo Age de datos tabulares). La entrega consiste en el código completo y comentado en Jupyter Notebooks incluyendo su salida. Deben incluir la evaluación del modelo en datos test (Kappa, Matriz de confusión y cualquier otra métrica que considere relevante) además de la valoración de los resultados obtenidos"
   ]
  },
  {
   "cell_type": "markdown",
   "metadata": {},
   "source": [
    "# Datos Utilizados\n",
    "\n",
    "1. train.csv : datos tabulares/de texto para el conjunto de entrenamiento\n",
    "2. breed_labels.csv : contiene el tipo y el nombre de la raza para cada BreedID. El tipo 1 es perro y el 2 es gato.\n",
    "3. color_labels.csv : contiene el nombre del color para cada ID del color\n",
    "4. state_labels.csv : contiene el nombre del estado para cada ID de estado\n",
    "\n",
    "Datos de Imagenes\n",
    "\n",
    "En el caso de las mascotas que tengan fotos, se les asignará un nombre con el formato PetID-ImageNumber.jpg . La imagen 1 es la foto de perfil (predeterminada) establecida para la mascota. Por motivos de privacidad, se han ocultado los rostros, los números de teléfono y los correos electrónicos.\n",
    "\n",
    "\n",
    "Datos de sentimientos\n",
    "\n",
    "Hemos ejecutado la descripción de cada perfil de mascota a través de la API de lenguaje natural de Google, lo que proporciona un análisis de sentimientos y entidades clave. Opcionalmente, puede utilizar esta información complementaria para el análisis de la descripción de su mascota. Hay algunas descripciones que la API no pudo analizar. Por lo tanto, hay menos archivos de sentimientos que filas en el conjunto de datos.\n",
    "\n",
    "El formato del nombre del archivo es PetID.json .\n",
    "\n",
    "Referencia de la API de lenguaje natural de Google:\n",
    "https://cloud.google.com/natural-language/docs/basics"
   ]
  },
  {
   "cell_type": "markdown",
   "metadata": {},
   "source": [
    "\n",
    "Hemos ejecutado la descripción de cada perfil de mascota a través de la API de lenguaje natural de Google, lo que proporciona un análisis de sentimientos y entidades clave. Opcionalmente, puede utilizar esta información complementaria para el análisis de la descripción de su mascota. Hay algunas descripciones que la API no pudo analizar. Por lo tanto, hay menos archivos de sentimientos que filas en el conjunto de datos.\n",
    "\n",
    "El formato del nombre del archivo es PetID.json .\n",
    "\n",
    "Referencia de la API de lenguaje natural de Google:\n",
    "https://cloud.google.com/natural-language/docs/basics"
   ]
  },
  {
   "cell_type": "markdown",
   "metadata": {},
   "source": [
    "# Proceso \n",
    "\n",
    "En base a videos explicativos de las distintas clases trate de construir distintos notebook para mantener un orden y un flujo en el armado del modelo.\n",
    "\n",
    "\n",
    "#### Analisis EDA\n",
    "\n",
    "\n",
    "\n"
   ]
  }
 ],
 "metadata": {
  "kernelspec": {
   "display_name": "env",
   "language": "python",
   "name": "python3"
  },
  "language_info": {
   "codemirror_mode": {
    "name": "ipython",
    "version": 3
   },
   "file_extension": ".py",
   "mimetype": "text/x-python",
   "name": "python",
   "nbconvert_exporter": "python",
   "pygments_lexer": "ipython3",
   "version": "3.11.7"
  }
 },
 "nbformat": 4,
 "nbformat_minor": 2
}
